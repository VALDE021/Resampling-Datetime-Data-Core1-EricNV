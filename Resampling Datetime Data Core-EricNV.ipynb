{
 "cells": [
  {
   "cell_type": "markdown",
   "id": "114598cc-cb60-42dd-a4f5-2e65dbd824c4",
   "metadata": {},
   "source": [
    "# <u><center>*Resampling Datetime Data Core*</center>\n",
    "* Authored By: Eric N. Valdez\n",
    "* Date: 1/30/2024>"
   ]
  },
  {
   "cell_type": "markdown",
   "id": "05c571da-65e3-4957-adde-122327b77c37",
   "metadata": {},
   "source": [
    "# <u>(Core1) Resampling Datetime Data:"
   ]
  },
  {
   "cell_type": "markdown",
   "id": "9f4da9ea-39aa-4b94-b5c9-4571be678175",
   "metadata": {},
   "source": [
    "For this assignment, you will be working with a modified version of [weather data from London from Kaggle.](https://www.kaggle.com/datasets/emmanuelfwerr/london-weather-data)\n",
    "\n",
    "The assignment is split into <u>2 parts</u>:\n",
    "\n",
    "Part 1: Load the data and create a datetime index\n",
    "\n",
    "Part 2: Answer 2 Questions using visualizations and the correct frequency data"
   ]
  },
  {
   "cell_type": "markdown",
   "id": "14fb84e8-a8bd-4a3e-be91-a0e9aa9e35ff",
   "metadata": {},
   "source": [
    "## <u>Part 1) Load the data and make a datetime index.</u>\n",
    "* Use the modified version of the data provided here:\r",
    "> * Share URL\n",
    "    > * [ https://docs.google.com/spreadsheets/d/1J2hEGA1-ZOdXOc1Go2AjB7xShq-nAvIDpBz_XRZscHU/edit?usp=sharin](https://docs.google.com/spreadsheets/d/1J2hEGA1-ZOdXOc1Go2AjB7xShq-nAvIDpBz_XRZscHU/edit#gid=1198589591.csv)\n"
   ]
  },
  {
   "cell_type": "markdown",
   "id": "86f9d25e-dc94-4da5-abd6-bd242828d82a",
   "metadata": {},
   "source": [
    "* Raw URL:\n",
    "> * [https://docs.google.com/spreadsheets/d/e/2PACX-1vT_jChgNsQbHbg4TGepzIqk8XC9DTIKmyyxb1upo5cfZCgbfIUQc2ZC0YMzuU5uApP140Ob49KBjdqh/pub?gid=1198589591&single=true&output=csv](http://localhost:8888/edit/Data/london_weather_MODIFIED%20-%20london_weather_MODIFIED.csv)"
   ]
  },
  {
   "cell_type": "markdown",
   "id": "67996ec2-6fae-488c-a5e4-e9f5f19c197f",
   "metadata": {},
   "source": [
    "### <u> You must first load the data and create a datetime index."
   ]
  },
  {
   "cell_type": "code",
   "execution_count": null,
   "id": "9ba0ea63-a6b0-42d7-8ac6-0de4a31a1990",
   "metadata": {},
   "outputs": [],
   "source": [
    "# Imports"
   ]
  },
  {
   "cell_type": "code",
   "execution_count": null,
   "id": "0cb2f53e-cf87-414b-b4c7-e9bfcd5fbf6d",
   "metadata": {},
   "outputs": [],
   "source": [
    "# Loading Data"
   ]
  },
  {
   "cell_type": "markdown",
   "id": "a55ff8eb-ca7e-45c8-a8d3-ff8da16edfcc",
   "metadata": {},
   "source": [
    "### 1. <u>Convert the date column to datetime dtype."
   ]
  },
  {
   "cell_type": "code",
   "execution_count": null,
   "id": "820ea389-e4e8-44e7-a72b-77942873b6cd",
   "metadata": {},
   "outputs": [],
   "source": []
  },
  {
   "cell_type": "markdown",
   "id": "d03d4286-e312-4af0-98a2-d76cc6015679",
   "metadata": {},
   "source": [
    "### 2. <u>Set the date column as the index."
   ]
  },
  {
   "cell_type": "code",
   "execution_count": null,
   "id": "4fadd09e-480b-42fc-9f00-40232983f81c",
   "metadata": {},
   "outputs": [],
   "source": []
  },
  {
   "cell_type": "markdown",
   "id": "a88f82ae-cb72-4601-bc78-2e889af41dea",
   "metadata": {},
   "source": [
    "### 3. <u>Filter out only the required data:\n",
    "\n",
    "* Keep only data from the year 2000 or later."
   ]
  },
  {
   "cell_type": "markdown",
   "id": "510587dd-be05-4863-9312-c231c1fe7e22",
   "metadata": {},
   "source": [
    "* Keep only the following features:\n",
    "    * precipitation\n",
    "    * mean_temp\n",
    "    * min_temp\n",
    "    * max_temp\n",
    "    * snow_depth"
   ]
  },
  {
   "cell_type": "code",
   "execution_count": null,
   "id": "77128528-6ee3-4ed3-8004-d342e6486100",
   "metadata": {},
   "outputs": [],
   "source": []
  },
  {
   "cell_type": "markdown",
   "id": "48e39a1c-e876-45fe-8a9b-649cd05cab5c",
   "metadata": {},
   "source": [
    "### 4. <u> Impute any missing values.\n",
    "* Think about each feature and what imputation method makes sense. You may not be able to use the same method for every feature!\n",
    "    "
   ]
  },
  {
   "cell_type": "code",
   "execution_count": null,
   "id": "cbd9166c-2ee5-4c61-8e1c-84deec62e86d",
   "metadata": {},
   "outputs": [],
   "source": []
  },
  {
   "cell_type": "markdown",
   "id": "42300595-8afd-4bfe-90d0-9c56982b07f9",
   "metadata": {},
   "source": [
    "## <u>Part 2) Answer the Questions with Visualizations (Using the Correct Frequency)"
   ]
  },
  {
   "cell_type": "markdown",
   "id": "1238effc-967f-46de-b899-bf870503c070",
   "metadata": {},
   "source": [
    "* For each of the following questions, make a new copy of the dataframe resampled to the correct frequency for the question.\n",
    "* Plot the feature that the question is asking about\n",
    "  * \n",
    "If there is a specific time period, plot only that time perio>y."
   ]
  },
  {
   "cell_type": "markdown",
   "id": "2262f801-8754-4017-ab05-01e8dc324617",
   "metadata": {},
   "source": [
    "u>Note:</u> you may want to make a temporary DataFrame that you will use to answer this question only."
   ]
  },
  {
   "cell_type": "code",
   "execution_count": null,
   "id": "ffef29dc-b941-4691-bb62-89cbb9371ae7",
   "metadata": {},
   "outputs": [],
   "source": []
  },
  {
   "cell_type": "markdown",
   "id": "59992d1d-e120-4634-8848-54db18644950",
   "metadata": {},
   "source": [
    "### Q1: <u>What month had the most precipitation between 2000 through 2010?"
   ]
  },
  {
   "cell_type": "markdown",
   "id": "7f5ffd18-c978-4d0c-a187-06b171f3b87b",
   "metadata": {},
   "source": [
    "* <u>NOTE</u>: Pandas' .plot method currently has a bug with 4-digit year axis labels. The tick labels misbehave when being formatted with matplotlib and will produce a mostly-blank axis with 1 year labeled, like the screenshot below:\n"
   ]
  },
  {
   "cell_type": "markdown",
   "id": "3c788b8a-f3d6-4545-8b65-4154991e5d94",
   "metadata": {},
   "source": [
    "<img src = 'Data/1668548418__example-issue.png'>\n",
    "\n",
    "* To get around this issue, first, create your fig and ax using plt.subplots()\n",
    "    * \n",
    "\r\n",
    "Now you may use pandas .plot method to plot this figure by adding the argument \"ax=ax\" to .plot()."
   ]
  },
  {
   "cell_type": "code",
   "execution_count": null,
   "id": "cd495a54-c5e2-481f-9468-2391d95c17c7",
   "metadata": {},
   "outputs": [],
   "source": [
    "fig, ax = plt.subplots(figsize=(12,3))\n",
    "df.plot(ax=ax)"
   ]
  },
  {
   "cell_type": "markdown",
   "id": "97a542ec-23da-41c7-bbcf-54c039fd0abe",
   "metadata": {},
   "source": [
    "## <u>Visualization Issue Workaround:"
   ]
  },
  {
   "cell_type": "markdown",
   "id": "72490dfe-894d-417c-a386-21445c127712",
   "metadata": {},
   "source": [
    "### Q1: Visualization Requirements"
   ]
  },
  {
   "cell_type": "markdown",
   "id": "d47cc92a-e9c3-4bfe-ad37-8c3b6d35e05d",
   "metadata": {},
   "source": [
    "* Use a combination of pandas, matplotlib tick formatters, tick locators, and the fig.autofmt_xdate method to:\n",
    "    * \n",
    "Create a wide figure (e.g. figsize=(12,3)\n",
    "        * \r\n",
    "With the title \"Precipitation for 2000-201\n",
    "        * \"\r\n",
    "With a ylabel of \"Inchnor ticks."
   ]
  },
  {
   "cell_type": "markdown",
   "id": "4b805225-7543-46dd-a513-f8f69f38ea91",
   "metadata": {},
   "source": [
    "* Customize the major xaxis ticks to:\n",
    "    * Have major xaxis ticks every 1 year.\n",
    "    * Use 4-digit years for the labels\n",
    "    * Rotate the major ticks' labels 90 degrees."
   ]
  },
  {
   "cell_type": "markdown",
   "id": "1bb45ec1-cd1c-4805-8eca-b8e6ce4798cc",
   "metadata": {},
   "source": [
    "* Customize the minor xaxis ticks to:\n",
    "    * Have minor xaxis ticks every 3 months\n",
    "    * Do not label the minor ticks."
   ]
  },
  {
   "cell_type": "code",
   "execution_count": null,
   "id": "52798cac-bee3-42b7-89a8-ea0e98ceec62",
   "metadata": {},
   "outputs": [],
   "source": []
  },
  {
   "cell_type": "markdown",
   "id": "34f0f65b-201a-4257-b628-20eece1d09ef",
   "metadata": {},
   "source": [
    "### Q2: Which year between 2000-2020 had the coolest average temperature?"
   ]
  },
  {
   "cell_type": "markdown",
   "id": "3491c26b-90db-4677-ad32-9b155f4a7fbd",
   "metadata": {},
   "source": [
    "* Resample the  mean_temp data to a Yearly frequency using .mean() as the aggregation method.\n",
    "    * \r\n",
    "Plot the feature and time period that corresponds to the questio\n",
    "* .\r\n",
    "Make sure to meet the \"Visualization Requirements\" bel\n",
    "* w!\r\n",
    "Determine the year and value for the lowest mean t\n",
    "* mp.\r\n",
    "Add a vertical line at this date with a label that says the date (using date format: \"2000\") and the lowest mean temperature value."
   ]
  },
  {
   "cell_type": "code",
   "execution_count": null,
   "id": "ccd972dc-f5cc-4747-a4f6-f1a0a3e59d51",
   "metadata": {},
   "outputs": [],
   "source": []
  },
  {
   "cell_type": "markdown",
   "id": "7d79305a-bd0f-4afe-bb62-221a02d2865c",
   "metadata": {},
   "source": [
    "### Q3: Visualization Requirements\n",
    "* Use a combination of pandas, matplotlib tick formatters, tick locators, and the fig.autofmt_xdate method to:\n",
    "    * Create a wide figure (e.g. figsize=(12,3)\n",
    "        * With the title \"Average Temperature\"\n",
    "        * With a ylabel of \"Degress\"."
   ]
  },
  {
   "cell_type": "markdown",
   "id": "266a1bb2-9f1b-44c5-9261-491dd7ee91cb",
   "metadata": {},
   "source": [
    "* Customize the major xaxis ticks to:\n",
    "    * Have major xaxis ticks every 5 years.\n",
    "    * Use 4-digit years for the labels\n",
    "    * Rotate the major ticks' labels 90 degrees."
   ]
  },
  {
   "cell_type": "markdown",
   "id": "cf306711-02a1-4dbe-b716-cd2c28138c1a",
   "metadata": {},
   "source": [
    "* Customize the minor xaxis ticks to:\n",
    "    * Have minor xaxis ticks every 1 year\n",
    "    * Do not label the minor ticks."
   ]
  },
  {
   "cell_type": "code",
   "execution_count": null,
   "id": "afc9a3b4-5255-4acc-9e63-4e6600466a61",
   "metadata": {},
   "outputs": [],
   "source": []
  }
 ],
 "metadata": {
  "kernelspec": {
   "display_name": "Python 3 (ipykernel)",
   "language": "python",
   "name": "python3"
  },
  "language_info": {
   "codemirror_mode": {
    "name": "ipython",
    "version": 3
   },
   "file_extension": ".py",
   "mimetype": "text/x-python",
   "name": "python",
   "nbconvert_exporter": "python",
   "pygments_lexer": "ipython3",
   "version": "3.10.10"
  },
  "widgets": {
   "application/vnd.jupyter.widget-state+json": {
    "state": {},
    "version_major": 2,
    "version_minor": 0
   }
  }
 },
 "nbformat": 4,
 "nbformat_minor": 5
}
